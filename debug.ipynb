{
 "cells": [
  {
   "cell_type": "code",
   "execution_count": 91,
   "metadata": {},
   "outputs": [],
   "source": [
    "from selenium import webdriver"
   ]
  },
  {
   "cell_type": "code",
   "execution_count": 92,
   "metadata": {},
   "outputs": [],
   "source": [
    "browser=webdriver.Chrome('/Users/vinay/Downloads/chromedriver')"
   ]
  },
  {
   "cell_type": "code",
   "execution_count": 93,
   "metadata": {},
   "outputs": [],
   "source": [
    "browser.get(\"https://www.tutorialspoint.com/compile_java_online.php\")"
   ]
  },
  {
   "cell_type": "code",
   "execution_count": 98,
   "metadata": {},
   "outputs": [],
   "source": [
    "with open('/Users/vinay/Desktop/timetable.txt','r',encoding='utf-8') as f:\n",
    "    code=f.read()   "
   ]
  },
  {
   "cell_type": "code",
   "execution_count": 99,
   "metadata": {},
   "outputs": [],
   "source": [
    "code_element=browser.find_element_by_class_name(\"ace_text-input\")"
   ]
  },
  {
   "cell_type": "code",
   "execution_count": 100,
   "metadata": {},
   "outputs": [
    {
     "data": {
      "text/plain": [
       "'import java.util.*;\\nclass GFG {\\n static int R = 4;\\n static int C = 4;\\n // Function for printing matrix in spiral form\\n static void print(int arr[][], int i, int j, int n)\\n {\\n if (i >= m || j >= n) {\\n return 0;\\n }\\n for (int p = i; p < n; p++) {\\n System.out.print(arr[i][p] + \" \");\\n }\\n for (int p = i + 1; p < m; p++) {\\n System.out.print(arr[p][n - 1] + \" \");\\n }\\n if ((m - 1) != i) {\\n for (int p = n - 2; p >= j; p--) {\\n System.out.print(arr[m - 1][p] + \" \");\\n }\\n }\\n if ((n - 1) != j) {\\n for (int p = m - 2; p > i; p--) {\\n System.out.print(arr[p][j] + \" \");\\n }\\n }\\n print(arr, i + 1, j + 1, m - 1, n - 1);\\n }\\n // Driver Code\\n public static void main(String[] args)\\n {\\n int a[][] = { { 1, 2, 3, 4 },\\n { 5, 6, 7, 8 },\\n { 9, 10, 11, 12 },\\n { 13, 14, 15, 16 } };\\n // Function Call\\n void print(a, 0, 0, R, C);\\n }\\n}\\n'"
      ]
     },
     "execution_count": 100,
     "metadata": {},
     "output_type": "execute_result"
    }
   ],
   "source": [
    "code\n"
   ]
  },
  {
   "cell_type": "code",
   "execution_count": 103,
   "metadata": {},
   "outputs": [],
   "source": [
    "code_element.clear()\n",
    "code_element.send_keys(code)"
   ]
  },
  {
   "cell_type": "code",
   "execution_count": 104,
   "metadata": {},
   "outputs": [],
   "source": [
    "element = browser.find_element_by_id(\"execute\").click()"
   ]
  },
  {
   "cell_type": "code",
   "execution_count": 107,
   "metadata": {},
   "outputs": [],
   "source": [
    "x = browser.find_element_by_id(\"eastcover\").text\n"
   ]
  },
  {
   "cell_type": "code",
   "execution_count": 109,
   "metadata": {},
   "outputs": [],
   "source": [
    "L = x.split(\"\\n\")"
   ]
  },
  {
   "cell_type": "code",
   "execution_count": 118,
   "metadata": {},
   "outputs": [
    {
     "name": "stdout",
     "output_type": "stream",
     "text": [
      "$javac GFG.java\n",
      "GFG.java:37: error: illegal start of expression\n",
      "                      void print(a, 0, 0, R, C);\n",
      "                      ^\n",
      "GFG.java:37: error: ';' expected\n",
      "                      void print(a, 0, 0, R, C);\n",
      "                                ^\n",
      "GFG.java:37: error: not a statement\n",
      "                      void print(a, 0, 0, R, C);\n",
      "                                 ^\n",
      "GFG.java:37: error: ';' expected\n",
      "                      void print(a, 0, 0, R, C);\n",
      "                                  ^\n",
      "GFG.java:37: error: not a statement\n",
      "                      void print(a, 0, 0, R, C);\n",
      "                                          ^\n",
      "GFG.java:37: error: ';' expected\n",
      "                      void print(a, 0, 0, R, C);\n",
      "                                           ^\n",
      "GFG.java:37: error: not a statement\n",
      "                      void print(a, 0, 0, R, C);\n",
      "                                             ^\n",
      "GFG.java:37: error: ';' expected\n",
      "                      void print(a, 0, 0, R, C);\n",
      "                                              ^\n",
      "GFG.java:41: error: class, interface, or enum expected\n",
      "            }\n",
      "            ^\n",
      "9 errors\n"
     ]
    }
   ],
   "source": [
    "for i in range(len(L)):\n",
    "    print(L[i])"
   ]
  },
  {
   "cell_type": "code",
   "execution_count": null,
   "metadata": {},
   "outputs": [],
   "source": []
  }
 ],
 "metadata": {
  "kernelspec": {
   "display_name": "Python 3",
   "language": "python",
   "name": "python3"
  },
  "language_info": {
   "codemirror_mode": {
    "name": "ipython",
    "version": 3
   },
   "file_extension": ".py",
   "mimetype": "text/x-python",
   "name": "python",
   "nbconvert_exporter": "python",
   "pygments_lexer": "ipython3",
   "version": "3.7.3"
  }
 },
 "nbformat": 4,
 "nbformat_minor": 2
}
