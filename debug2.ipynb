{
 "cells": [
  {
   "cell_type": "code",
   "execution_count": 1,
   "metadata": {},
   "outputs": [],
   "source": [
    "from selenium import webdriver"
   ]
  },
  {
   "cell_type": "code",
   "execution_count": 2,
   "metadata": {},
   "outputs": [],
   "source": [
    "browser=webdriver.Chrome('/Users/vinay/Downloads/chromedriver')"
   ]
  },
  {
   "cell_type": "code",
   "execution_count": 3,
   "metadata": {},
   "outputs": [],
   "source": [
    "browser.get(\"https://www.tutorialspoint.com/execute_python_online.php\")"
   ]
  },
  {
   "cell_type": "code",
   "execution_count": 4,
   "metadata": {},
   "outputs": [],
   "source": [
    "with open('/Users/vinay/Desktop/timetable.txt','r',encoding='utf-8') as f:\n",
    "    code=f.read()   "
   ]
  },
  {
   "cell_type": "code",
   "execution_count": 5,
   "metadata": {},
   "outputs": [],
   "source": [
    "code_element=browser.find_element_by_class_name(\"ace_text-input\")"
   ]
  },
  {
   "cell_type": "code",
   "execution_count": 6,
   "metadata": {},
   "outputs": [
    {
     "data": {
      "text/plain": [
       "'import curses\\nimport random\\nimport time\\nclass Block(object):\\ndef __init__(self):\\nself._block = [0, 0, 0, 0, 0, 0, 0, 0, 0]\\ndef __setitem__(self, point, value):\\nif abs(self._block[point[1] + 3 * point[0]]) == abs(value):\\nself._block[point[1] + 3 * point[0]] = value\\nreturn\\nif value != 0 and (value in self._block or -value in self._block):\\nraise ValueError(\"Block already contains %d\" % value)\\nself._block[point[1] + 3 * point[0]] = value\\ndef __getitem__(self, point):\\nreturn self._block[point[1] + 3 * point[0]]\\nclass Sudoku(object):\\ndef __init__(self):\\nself._field = [Block() for i in range(9)]\\nself._values = list(range(0, 10))\\nself._points = [(x, y) for y in range(9) for x in range(9)]\\ndef clear(self):\\nfor b in self._field:\\nb._block = [0, 0, 0, 0, 0, 0, 0, 0, 0]\\ndef candidates(self, point):\\ncandidates = set()\\nprevious = self[point]\\nfor i in self._values:\\ntry:\\nself[point] = i\\nexcept ValueError:\\npass\\nelse:\\ncandidates.add(i)\\nself[point] = previous\\nreturn candidates\\ndef populate(self, n=36):\\nrandom.shuffle(self._points)\\nrandom.shuffle(self._values)\\nself.clear()\\nself.solve()\\nfor point in self._points:\\nif self[point] == 0:\\ncontinue\\nval = self[point]\\nfor v in self.candidates(point):\\nif v == val:\\ncontinue\\nself[point] = v\\nif self.solve(True):\\nself[point] = val\\nbreak\\nelse:\\nif (81 - sum(b._block.count(0) for b in self._field) < n):\\nself[point] = val\\nbreak\\nself[point] = 0\\nfor point in self._points:\\nself[point] *= -1\\ndef __str__(self):\\nfor y in range(9):\\nfor x in range(9):\\ns += \\'%d \\' % self[x, y]\\nif (x + 1) % 3 == 0:\\ns += \" \"\\ns += \"\\\\n\"\\nif (y + 1) % 3 == 0:\\ns += \"\\\\n\"\\nreturn s.strip()\\ndef __getitem__(self, p):\\npb = (p[0] // 3, p[1] // 3)\\nblock = self._field[pb[1] + 3 * pb[0]]\\nreturn block[p[0] % 3, p[1] % 3]\\ndef __setitem__(self, p, val):\\nif self[p] < 0 and val >= 0:\\nraise ValueError(\"Value at point %s is pre-defined\" % str(p))\\nif val != 0:\\nfor i in range(9):\\nif i != p[1] and abs(self[p[0], i]) == abs(val):\\nraise ValueError(\"Already in column: %d\" % val)\\nif i != p[0] and abs(self[i, p[1]]) == abs(val):\\nraise ValueError(\"Already in row: %d\" % val)\\npb = (p[0] // 3, p[1] // 3)\\nblock = self._field[pb[1] + 3 * pb[0]]\\nblock[p[0] % 3, p[1] % 3] = val\\ndef is_solved(self):\\nreturn all(0 not in self._field[i]._block for i in range(0, 9))\\ndef solve(self, reset=False):\\nif self.is_solved():\\nreturn True\\nfield = None\\nfor x in range(9):\\nif field is not None:\\nbreak\\nfor y in range(9):\\nif self[x, y] == 0:\\nfield = (x, y)\\nbreak\\nif field is None:\\nreturn True\\nfor new in self._values:\\ntry:\\nself[field] = new\\nexcept ValueError:\\ncontinue\\nelse:\\nif self.solve(reset):\\nif reset:\\nself[field] = 0\\nelse:\\nself[field] = 0\\nclass CursesUI(object):\\ndef __init__(self):\\nself._screen = curses.initscr()\\nself._sudoku = Sudoku()\\n# Draw the borders\\nself._screen.vline(0, 4 * 3 - 2, curses.ACS_VLINE, 2 * 9 - 1)\\nself._screen.vline(0, 4 * 6 - 2, curses.ACS_VLINE, 2 * 9 - 1)\\nself._screen.hline(2 * 3 - 1, 0, curses.ACS_HLINE, 4 * 9 - 3)\\nself._screen.hline(2 * 6 - 1, 0, curses.ACS_HLINE, 4 * 9 - 3)\\nself._screen.addch(2 * 3 - 1, 4 * 3 - 2, curses.ACS_PLUS)\\nself._screen.addch(2 * 3 - 1, 4 * 6 - 2, curses.ACS_PLUS)\\nself._screen.addch(2 * 6 - 1, 4 * 3 - 2, curses.ACS_PLUS)\\nself._screen.addch(2 * 6 - 1, 4 * 6 - 2, curses.ACS_PLUS)\\nself._draw_sudoku()\\ncurses.noecho()\\ncurses.cbreak()\\nself._screen.keypad(1)\\ndef __enter__(self, *a):\\nreturn self\\ndef __exit__(self, *a):\\ncurses.nocbreak()\\nself._screen.keypad(0)\\ncurses.echo()\\ncurses.endwin()\\ndef _draw_sudoku(self):\\nfor y in range(0, 9):\\nfor x in range(0, 9):\\nvalue = self._sudoku[x, y]\\nattr = curses.A_BOLD if value < 0 else 0\\nself._screen.addch(2 * y, 4 * x, ord(\\'0\\') + abs(value), attr)\\ndef _print_string(self, string):\\nself._screen.move(20, 0)\\nself._screen.deleteln()\\nself._screen.addstr(string)\\ndef _help(self):\\nself._print_string(\"Commands: (q)uit, (p)opulate, (P)opulate, \"\\n\"(r)eset, (c)andidates, (s)olve\")\\ndef main(self):\\nx = 0\\ny = 0\\nself._help()\\nwhile True:\\nself._screen.move(y, x)\\nc = chr(self._screen.getch())\\nif c == \\':\\':\\nself._print_string(\":\")\\ncurses.echo()\\nc = self._screen.getstr()\\ncurses.noecho()\\nif c == \\'q\\':\\nbreak\\nelif c == \\'h\\':\\nself._help()\\nelif c in (\\'p\\', \\'P\\'):\\nif c == \\'P\\':\\nself._print_string(\"Enter number of fields: \")\\ncurses.echo()\\nn = int(self._screen.getstr())\\ncurses.noecho()\\nelse:\\nn = 36\\nstart = time.time()\\nself._sudoku.populate(n)\\nend = time.time()\\nself._draw_sudoku()\\nself._print_string(\"Populated with %d fields in %.3f seconds\"\\n% (n, end - start))\\nelif c == \\'s\\':\\nif not self._sudoku.solve():\\nself._print_string(\"Could not solve sudoku\")\\nself._draw_sudoku()\\nelif c == \\'r\\':\\nself._sudoku = Sudoku()\\nself._draw_sudoku()\\nelif c == \\'c\\':\\npoint = (x // 4, y // 2)\\nself._print_string(\"Candidates for %s are: %s\" %\\n(point, self._sudoku.candidates(point)))\\nelif c == chr(curses.KEY_LEFT):\\nx -= x >= 4 and 4 or 0\\nelif c == chr(curses.KEY_RIGHT):\\nx += x + 4 < 4 * 9 and 4 or 0\\nelif c == chr(curses.KEY_UP):\\ny -= y >= 2 and 2 or 0\\nelif c == chr(curses.KEY_DOWN):\\ny += y + 2 < 2 * 9 and 2 or 0\\nelif c in \"0123456789\":\\ntry:\\nself._sudoku[x // 4, y // 2] = ord(c) - ord(\\'0\\')\\nself._screen.addch(y, x, c)\\nexcept Exception as e:\\nself._print_string(str(e))\\nelse:\\nif self._sudoku.is_solved():\\nself._print_string(\"Solved\")\\nelse:\\nself._print_string(\"\")\\nelse:\\nself._print_string(\"Error: Invalid command \\'%s\\'\" % c)\\nif __name__ == \\'__main__\\':\\nwith CursesUI() as ui:\\nui.main()'"
      ]
     },
     "execution_count": 6,
     "metadata": {},
     "output_type": "execute_result"
    }
   ],
   "source": [
    "code\n"
   ]
  },
  {
   "cell_type": "code",
   "execution_count": 7,
   "metadata": {},
   "outputs": [],
   "source": [
    "code_element.clear()\n",
    "code_element.send_keys(code)"
   ]
  },
  {
   "cell_type": "code",
   "execution_count": 8,
   "metadata": {},
   "outputs": [],
   "source": [
    "element = browser.find_element_by_id(\"execute\").click()"
   ]
  },
  {
   "cell_type": "code",
   "execution_count": 9,
   "metadata": {},
   "outputs": [],
   "source": [
    "x = browser.find_element_by_id(\"eastcover\").text\n"
   ]
  },
  {
   "cell_type": "code",
   "execution_count": 10,
   "metadata": {},
   "outputs": [],
   "source": [
    "L = x.split(\"\\n\")"
   ]
  },
  {
   "cell_type": "code",
   "execution_count": 11,
   "metadata": {},
   "outputs": [
    {
     "name": "stdout",
     "output_type": "stream",
     "text": [
      "$python main.py\n",
      "  File \"main.py\", line 30\n",
      "    except ValueError:\n",
      "         ^\n",
      "SyntaxError: invalid syntax\n"
     ]
    }
   ],
   "source": [
    "for i in range(len(L)):\n",
    "    print(L[i])"
   ]
  },
  {
   "cell_type": "code",
   "execution_count": null,
   "metadata": {},
   "outputs": [],
   "source": []
  }
 ],
 "metadata": {
  "kernelspec": {
   "display_name": "Python 3",
   "language": "python",
   "name": "python3"
  },
  "language_info": {
   "codemirror_mode": {
    "name": "ipython",
    "version": 3
   },
   "file_extension": ".py",
   "mimetype": "text/x-python",
   "name": "python",
   "nbconvert_exporter": "python",
   "pygments_lexer": "ipython3",
   "version": "3.7.3"
  }
 },
 "nbformat": 4,
 "nbformat_minor": 2
}
